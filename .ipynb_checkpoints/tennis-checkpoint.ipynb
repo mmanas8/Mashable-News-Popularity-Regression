{
 "cells": [
  {
   "cell_type": "markdown",
   "metadata": {},
   "source": [
    "# Bank Marketing Dataset: Predicting Term Deposits Subscriptions "
   ]
  },
  {
   "cell_type": "markdown",
   "metadata": {},
   "source": [
    "A Group Project for W20 DSCI 100 102. Members are (Full Name, Student Number): \n",
    "- Braden Sunderland\n",
    "- Dylan De Lancie\n",
    "- Manas Mridul (74732843)"
   ]
  },
  {
   "cell_type": "markdown",
   "metadata": {},
   "source": [
    "## I. Project Introduction"
   ]
  },
  {
   "cell_type": "markdown",
   "metadata": {},
   "source": [
    "One of the foremost ways used to measure the success of a tele-marketing campaign is how likely were the target audience to buy the product/service being advertised. However, there can be numerous characteristics of the marketing campaign that eventually determine its success. Hence, the ability to predict the outcome of a marketing campaign using the insights from a previous campaign can be extremely valuable to any company that wishes to make the best marketing decisions.\n",
    "\n",
    "In this project, we look at the Bank Marketing Dataset that is currently being hosted on UC Irvine's Machine Learning Repository (link). The data contained in the dataset corresponds to a tele-marketing campaign which was run by a Portuguese banking institution with an aim to sell subscriptions for term deposits.\n",
    "\n",
    "But, _what are term deposits?_ A Term deposit is a deposit that a bank or a financial institurion offers with a fixed rate (often better than just opening deposit account) in which your money will be returned back at a specific maturity time. (cite Investopedia)\n",
    "\n",
    "### I.A. Dataset Information\n",
    "\n",
    "\n",
    "### I.B. Research Question"
   ]
  },
  {
   "cell_type": "markdown",
   "metadata": {},
   "source": [
    "## II. Setup and Reading Data"
   ]
  },
  {
   "cell_type": "code",
   "execution_count": 5,
   "metadata": {},
   "outputs": [],
   "source": [
    "library(tidyverse)\n",
    "library(repr)\n",
    "library(tidymodels)\n",
    "\n",
    "options(repr.matrix.max.rows = 6) \n",
    "\n",
    "library(caret) #a library to create stratified random data splits. More on this in section III.\n",
    "library(ggplot2)"
   ]
  },
  {
   "cell_type": "markdown",
   "metadata": {},
   "source": [
    "-----------------------------------------------------------------------------------------------------------------"
   ]
  },
  {
   "cell_type": "code",
   "execution_count": 6,
   "metadata": {},
   "outputs": [
    {
     "name": "stderr",
     "output_type": "stream",
     "text": [
      "Using ',' as decimal and '.' as grouping mark. Use read_delim() for more control.\n",
      "\n",
      "Parsed with column specification:\n",
      "cols(\n",
      "  .default = col_character(),\n",
      "  age = \u001b[32mcol_double()\u001b[39m,\n",
      "  duration = \u001b[32mcol_double()\u001b[39m,\n",
      "  campaign = \u001b[32mcol_double()\u001b[39m,\n",
      "  pdays = \u001b[32mcol_double()\u001b[39m,\n",
      "  previous = \u001b[32mcol_double()\u001b[39m,\n",
      "  emp.var.rate = \u001b[32mcol_number()\u001b[39m,\n",
      "  cons.price.idx = \u001b[32mcol_number()\u001b[39m,\n",
      "  cons.conf.idx = \u001b[32mcol_number()\u001b[39m,\n",
      "  euribor3m = \u001b[32mcol_number()\u001b[39m,\n",
      "  nr.employed = \u001b[32mcol_double()\u001b[39m\n",
      ")\n",
      "\n",
      "See spec(...) for full column specifications.\n",
      "\n",
      "Warning message:\n",
      "“33425 parsing failures.\n",
      " row         col               expected actual                            file\n",
      "7764 nr.employed no trailing characters     .1 'data/bank-additional-full.csv'\n",
      "7765 nr.employed no trailing characters     .1 'data/bank-additional-full.csv'\n",
      "7766 nr.employed no trailing characters     .1 'data/bank-additional-full.csv'\n",
      "7767 nr.employed no trailing characters     .1 'data/bank-additional-full.csv'\n",
      "7768 nr.employed no trailing characters     .1 'data/bank-additional-full.csv'\n",
      ".... ........... ...................... ...... ...............................\n",
      "See problems(...) for more details.\n",
      "”\n"
     ]
    },
    {
     "data": {
      "text/html": [
       "<table>\n",
       "<caption>A spec_tbl_df: 41188 × 21</caption>\n",
       "<thead>\n",
       "\t<tr><th scope=col>age</th><th scope=col>job</th><th scope=col>marital</th><th scope=col>education</th><th scope=col>default</th><th scope=col>housing</th><th scope=col>loan</th><th scope=col>contact</th><th scope=col>month</th><th scope=col>day_of_week</th><th scope=col>⋯</th><th scope=col>campaign</th><th scope=col>pdays</th><th scope=col>previous</th><th scope=col>poutcome</th><th scope=col>emp.var.rate</th><th scope=col>cons.price.idx</th><th scope=col>cons.conf.idx</th><th scope=col>euribor3m</th><th scope=col>nr.employed</th><th scope=col>y</th></tr>\n",
       "\t<tr><th scope=col>&lt;dbl&gt;</th><th scope=col>&lt;chr&gt;</th><th scope=col>&lt;chr&gt;</th><th scope=col>&lt;chr&gt;</th><th scope=col>&lt;chr&gt;</th><th scope=col>&lt;chr&gt;</th><th scope=col>&lt;chr&gt;</th><th scope=col>&lt;chr&gt;</th><th scope=col>&lt;chr&gt;</th><th scope=col>&lt;chr&gt;</th><th scope=col>⋯</th><th scope=col>&lt;dbl&gt;</th><th scope=col>&lt;dbl&gt;</th><th scope=col>&lt;dbl&gt;</th><th scope=col>&lt;chr&gt;</th><th scope=col>&lt;dbl&gt;</th><th scope=col>&lt;dbl&gt;</th><th scope=col>&lt;dbl&gt;</th><th scope=col>&lt;dbl&gt;</th><th scope=col>&lt;dbl&gt;</th><th scope=col>&lt;fct&gt;</th></tr>\n",
       "</thead>\n",
       "<tbody>\n",
       "\t<tr><td>56</td><td>housemaid</td><td>married</td><td>basic.4y   </td><td>no     </td><td>no </td><td>no</td><td>telephone</td><td>may</td><td>mon</td><td>⋯</td><td>1</td><td>999</td><td>0</td><td>nonexistent</td><td>11</td><td>93994</td><td>-364</td><td>4857</td><td>5191</td><td>no</td></tr>\n",
       "\t<tr><td>57</td><td>services </td><td>married</td><td>high.school</td><td>unknown</td><td>no </td><td>no</td><td>telephone</td><td>may</td><td>mon</td><td>⋯</td><td>1</td><td>999</td><td>0</td><td>nonexistent</td><td>11</td><td>93994</td><td>-364</td><td>4857</td><td>5191</td><td>no</td></tr>\n",
       "\t<tr><td>37</td><td>services </td><td>married</td><td>high.school</td><td>no     </td><td>yes</td><td>no</td><td>telephone</td><td>may</td><td>mon</td><td>⋯</td><td>1</td><td>999</td><td>0</td><td>nonexistent</td><td>11</td><td>93994</td><td>-364</td><td>4857</td><td>5191</td><td>no</td></tr>\n",
       "\t<tr><td>⋮</td><td>⋮</td><td>⋮</td><td>⋮</td><td>⋮</td><td>⋮</td><td>⋮</td><td>⋮</td><td>⋮</td><td>⋮</td><td>⋱</td><td>⋮</td><td>⋮</td><td>⋮</td><td>⋮</td><td>⋮</td><td>⋮</td><td>⋮</td><td>⋮</td><td>⋮</td><td>⋮</td></tr>\n",
       "\t<tr><td>56</td><td>retired   </td><td>married</td><td>university.degree  </td><td>no</td><td>yes</td><td>no</td><td>cellular</td><td>nov</td><td>fri</td><td>⋯</td><td>2</td><td>999</td><td>0</td><td>nonexistent</td><td>-11</td><td>94767</td><td>-508</td><td>1028</td><td>NA</td><td>no </td></tr>\n",
       "\t<tr><td>44</td><td>technician</td><td>married</td><td>professional.course</td><td>no</td><td>no </td><td>no</td><td>cellular</td><td>nov</td><td>fri</td><td>⋯</td><td>1</td><td>999</td><td>0</td><td>nonexistent</td><td>-11</td><td>94767</td><td>-508</td><td>1028</td><td>NA</td><td>yes</td></tr>\n",
       "\t<tr><td>74</td><td>retired   </td><td>married</td><td>professional.course</td><td>no</td><td>yes</td><td>no</td><td>cellular</td><td>nov</td><td>fri</td><td>⋯</td><td>3</td><td>999</td><td>1</td><td>failure    </td><td>-11</td><td>94767</td><td>-508</td><td>1028</td><td>NA</td><td>no </td></tr>\n",
       "</tbody>\n",
       "</table>\n"
      ],
      "text/latex": [
       "A spec\\_tbl\\_df: 41188 × 21\n",
       "\\begin{tabular}{lllllllllllllllllllll}\n",
       " age & job & marital & education & default & housing & loan & contact & month & day\\_of\\_week & ⋯ & campaign & pdays & previous & poutcome & emp.var.rate & cons.price.idx & cons.conf.idx & euribor3m & nr.employed & y\\\\\n",
       " <dbl> & <chr> & <chr> & <chr> & <chr> & <chr> & <chr> & <chr> & <chr> & <chr> & ⋯ & <dbl> & <dbl> & <dbl> & <chr> & <dbl> & <dbl> & <dbl> & <dbl> & <dbl> & <fct>\\\\\n",
       "\\hline\n",
       "\t 56 & housemaid & married & basic.4y    & no      & no  & no & telephone & may & mon & ⋯ & 1 & 999 & 0 & nonexistent & 11 & 93994 & -364 & 4857 & 5191 & no\\\\\n",
       "\t 57 & services  & married & high.school & unknown & no  & no & telephone & may & mon & ⋯ & 1 & 999 & 0 & nonexistent & 11 & 93994 & -364 & 4857 & 5191 & no\\\\\n",
       "\t 37 & services  & married & high.school & no      & yes & no & telephone & may & mon & ⋯ & 1 & 999 & 0 & nonexistent & 11 & 93994 & -364 & 4857 & 5191 & no\\\\\n",
       "\t ⋮ & ⋮ & ⋮ & ⋮ & ⋮ & ⋮ & ⋮ & ⋮ & ⋮ & ⋮ & ⋱ & ⋮ & ⋮ & ⋮ & ⋮ & ⋮ & ⋮ & ⋮ & ⋮ & ⋮ & ⋮\\\\\n",
       "\t 56 & retired    & married & university.degree   & no & yes & no & cellular & nov & fri & ⋯ & 2 & 999 & 0 & nonexistent & -11 & 94767 & -508 & 1028 & NA & no \\\\\n",
       "\t 44 & technician & married & professional.course & no & no  & no & cellular & nov & fri & ⋯ & 1 & 999 & 0 & nonexistent & -11 & 94767 & -508 & 1028 & NA & yes\\\\\n",
       "\t 74 & retired    & married & professional.course & no & yes & no & cellular & nov & fri & ⋯ & 3 & 999 & 1 & failure     & -11 & 94767 & -508 & 1028 & NA & no \\\\\n",
       "\\end{tabular}\n"
      ],
      "text/markdown": [
       "\n",
       "A spec_tbl_df: 41188 × 21\n",
       "\n",
       "| age &lt;dbl&gt; | job &lt;chr&gt; | marital &lt;chr&gt; | education &lt;chr&gt; | default &lt;chr&gt; | housing &lt;chr&gt; | loan &lt;chr&gt; | contact &lt;chr&gt; | month &lt;chr&gt; | day_of_week &lt;chr&gt; | ⋯ ⋯ | campaign &lt;dbl&gt; | pdays &lt;dbl&gt; | previous &lt;dbl&gt; | poutcome &lt;chr&gt; | emp.var.rate &lt;dbl&gt; | cons.price.idx &lt;dbl&gt; | cons.conf.idx &lt;dbl&gt; | euribor3m &lt;dbl&gt; | nr.employed &lt;dbl&gt; | y &lt;fct&gt; |\n",
       "|---|---|---|---|---|---|---|---|---|---|---|---|---|---|---|---|---|---|---|---|---|\n",
       "| 56 | housemaid | married | basic.4y    | no      | no  | no | telephone | may | mon | ⋯ | 1 | 999 | 0 | nonexistent | 11 | 93994 | -364 | 4857 | 5191 | no |\n",
       "| 57 | services  | married | high.school | unknown | no  | no | telephone | may | mon | ⋯ | 1 | 999 | 0 | nonexistent | 11 | 93994 | -364 | 4857 | 5191 | no |\n",
       "| 37 | services  | married | high.school | no      | yes | no | telephone | may | mon | ⋯ | 1 | 999 | 0 | nonexistent | 11 | 93994 | -364 | 4857 | 5191 | no |\n",
       "| ⋮ | ⋮ | ⋮ | ⋮ | ⋮ | ⋮ | ⋮ | ⋮ | ⋮ | ⋮ | ⋱ | ⋮ | ⋮ | ⋮ | ⋮ | ⋮ | ⋮ | ⋮ | ⋮ | ⋮ | ⋮ |\n",
       "| 56 | retired    | married | university.degree   | no | yes | no | cellular | nov | fri | ⋯ | 2 | 999 | 0 | nonexistent | -11 | 94767 | -508 | 1028 | NA | no  |\n",
       "| 44 | technician | married | professional.course | no | no  | no | cellular | nov | fri | ⋯ | 1 | 999 | 0 | nonexistent | -11 | 94767 | -508 | 1028 | NA | yes |\n",
       "| 74 | retired    | married | professional.course | no | yes | no | cellular | nov | fri | ⋯ | 3 | 999 | 1 | failure     | -11 | 94767 | -508 | 1028 | NA | no  |\n",
       "\n"
      ],
      "text/plain": [
       "      age job        marital education           default housing loan contact  \n",
       "1     56  housemaid  married basic.4y            no      no      no   telephone\n",
       "2     57  services   married high.school         unknown no      no   telephone\n",
       "3     37  services   married high.school         no      yes     no   telephone\n",
       "⋮     ⋮   ⋮          ⋮       ⋮                   ⋮       ⋮       ⋮    ⋮        \n",
       "41186 56  retired    married university.degree   no      yes     no   cellular \n",
       "41187 44  technician married professional.course no      no      no   cellular \n",
       "41188 74  retired    married professional.course no      yes     no   cellular \n",
       "      month day_of_week ⋯ campaign pdays previous poutcome    emp.var.rate\n",
       "1     may   mon         ⋯ 1        999   0        nonexistent 11          \n",
       "2     may   mon         ⋯ 1        999   0        nonexistent 11          \n",
       "3     may   mon         ⋯ 1        999   0        nonexistent 11          \n",
       "⋮     ⋮     ⋮           ⋱ ⋮        ⋮     ⋮        ⋮           ⋮           \n",
       "41186 nov   fri         ⋯ 2        999   0        nonexistent -11         \n",
       "41187 nov   fri         ⋯ 1        999   0        nonexistent -11         \n",
       "41188 nov   fri         ⋯ 3        999   1        failure     -11         \n",
       "      cons.price.idx cons.conf.idx euribor3m nr.employed y  \n",
       "1     93994          -364          4857      5191        no \n",
       "2     93994          -364          4857      5191        no \n",
       "3     93994          -364          4857      5191        no \n",
       "⋮     ⋮              ⋮             ⋮         ⋮           ⋮  \n",
       "41186 94767          -508          1028      NA          no \n",
       "41187 94767          -508          1028      NA          yes\n",
       "41188 94767          -508          1028      NA          no "
      ]
     },
     "metadata": {},
     "output_type": "display_data"
    }
   ],
   "source": [
    "data <- read_csv2(\"data/bank-additional-full.csv\") %>%\n",
    "        mutate(y = as_factor(y))\n",
    "data"
   ]
  },
  {
   "cell_type": "markdown",
   "metadata": {},
   "source": [
    "## III. Creating Stratified Random Train/Test Splits using caret's createDataPartion"
   ]
  },
  {
   "cell_type": "markdown",
   "metadata": {},
   "source": [
    "The data is already in tidy format. \n",
    "\n",
    "We are using the caret package's createDataPartition which creates a stratified random split of the data, putting 70% random observations in Train set and the other 30% in Valid (Test) set. This approach ensures that if the event rate (percentage of 'yes' in column y) across all observations is x%. Then createDataPartition ensures that the respective event rates WITHIN both Train and Valid sets are also equal to x% each. \n",
    "\n",
    "Our rationale behind this was to have it such that the training set is not biased towards one particular outcome."
   ]
  },
  {
   "cell_type": "code",
   "execution_count": 9,
   "metadata": {},
   "outputs": [
    {
     "data": {
      "text/html": [
       "0.700009711566476"
      ],
      "text/latex": [
       "0.700009711566476"
      ],
      "text/markdown": [
       "0.700009711566476"
      ],
      "text/plain": [
       "[1] 0.7000097"
      ]
     },
     "metadata": {},
     "output_type": "display_data"
    }
   ],
   "source": [
    "## Data looks in tidy format\n",
    "\n",
    "set.seed(3456)\n",
    "\n",
    "#create stratified partitions\n",
    "trainIndex <- createDataPartition(data$y, p = .7,\n",
    "                                  list = FALSE,\n",
    "                                  times = 1)\n",
    "train <- data[ trainIndex,]\n",
    "valid <- data[-trainIndex,]\n",
    "\n",
    "# check train/valid split. Must be equal to 70%.\n",
    "split <- nrow(train)/ (nrow(train) + nrow(valid))\n",
    "split"
   ]
  },
  {
   "cell_type": "code",
   "execution_count": 10,
   "metadata": {},
   "outputs": [
    {
     "data": {
      "text/html": [
       "<table>\n",
       "<caption>A tibble: 6 × 21</caption>\n",
       "<thead>\n",
       "\t<tr><th scope=col>age</th><th scope=col>job</th><th scope=col>marital</th><th scope=col>education</th><th scope=col>default</th><th scope=col>housing</th><th scope=col>loan</th><th scope=col>contact</th><th scope=col>month</th><th scope=col>day_of_week</th><th scope=col>⋯</th><th scope=col>campaign</th><th scope=col>pdays</th><th scope=col>previous</th><th scope=col>poutcome</th><th scope=col>emp.var.rate</th><th scope=col>cons.price.idx</th><th scope=col>cons.conf.idx</th><th scope=col>euribor3m</th><th scope=col>nr.employed</th><th scope=col>y</th></tr>\n",
       "\t<tr><th scope=col>&lt;dbl&gt;</th><th scope=col>&lt;chr&gt;</th><th scope=col>&lt;chr&gt;</th><th scope=col>&lt;chr&gt;</th><th scope=col>&lt;chr&gt;</th><th scope=col>&lt;chr&gt;</th><th scope=col>&lt;chr&gt;</th><th scope=col>&lt;chr&gt;</th><th scope=col>&lt;chr&gt;</th><th scope=col>&lt;chr&gt;</th><th scope=col>⋯</th><th scope=col>&lt;dbl&gt;</th><th scope=col>&lt;dbl&gt;</th><th scope=col>&lt;dbl&gt;</th><th scope=col>&lt;chr&gt;</th><th scope=col>&lt;dbl&gt;</th><th scope=col>&lt;dbl&gt;</th><th scope=col>&lt;dbl&gt;</th><th scope=col>&lt;dbl&gt;</th><th scope=col>&lt;dbl&gt;</th><th scope=col>&lt;fct&gt;</th></tr>\n",
       "</thead>\n",
       "<tbody>\n",
       "\t<tr><td>37</td><td>services   </td><td>married</td><td>high.school        </td><td>no     </td><td>yes</td><td>no </td><td>telephone</td><td>may</td><td>mon</td><td>⋯</td><td>1</td><td>999</td><td>0</td><td>nonexistent</td><td>11</td><td>93994</td><td>-364</td><td>4857</td><td>5191</td><td>no</td></tr>\n",
       "\t<tr><td>40</td><td>admin.     </td><td>married</td><td>basic.6y           </td><td>no     </td><td>no </td><td>no </td><td>telephone</td><td>may</td><td>mon</td><td>⋯</td><td>1</td><td>999</td><td>0</td><td>nonexistent</td><td>11</td><td>93994</td><td>-364</td><td>4857</td><td>5191</td><td>no</td></tr>\n",
       "\t<tr><td>56</td><td>services   </td><td>married</td><td>high.school        </td><td>no     </td><td>no </td><td>yes</td><td>telephone</td><td>may</td><td>mon</td><td>⋯</td><td>1</td><td>999</td><td>0</td><td>nonexistent</td><td>11</td><td>93994</td><td>-364</td><td>4857</td><td>5191</td><td>no</td></tr>\n",
       "\t<tr><td>45</td><td>services   </td><td>married</td><td>basic.9y           </td><td>unknown</td><td>no </td><td>no </td><td>telephone</td><td>may</td><td>mon</td><td>⋯</td><td>1</td><td>999</td><td>0</td><td>nonexistent</td><td>11</td><td>93994</td><td>-364</td><td>4857</td><td>5191</td><td>no</td></tr>\n",
       "\t<tr><td>59</td><td>admin.     </td><td>married</td><td>professional.course</td><td>no     </td><td>no </td><td>no </td><td>telephone</td><td>may</td><td>mon</td><td>⋯</td><td>1</td><td>999</td><td>0</td><td>nonexistent</td><td>11</td><td>93994</td><td>-364</td><td>4857</td><td>5191</td><td>no</td></tr>\n",
       "\t<tr><td>41</td><td>blue-collar</td><td>married</td><td>unknown            </td><td>unknown</td><td>no </td><td>no </td><td>telephone</td><td>may</td><td>mon</td><td>⋯</td><td>1</td><td>999</td><td>0</td><td>nonexistent</td><td>11</td><td>93994</td><td>-364</td><td>4857</td><td>5191</td><td>no</td></tr>\n",
       "</tbody>\n",
       "</table>\n"
      ],
      "text/latex": [
       "A tibble: 6 × 21\n",
       "\\begin{tabular}{lllllllllllllllllllll}\n",
       " age & job & marital & education & default & housing & loan & contact & month & day\\_of\\_week & ⋯ & campaign & pdays & previous & poutcome & emp.var.rate & cons.price.idx & cons.conf.idx & euribor3m & nr.employed & y\\\\\n",
       " <dbl> & <chr> & <chr> & <chr> & <chr> & <chr> & <chr> & <chr> & <chr> & <chr> & ⋯ & <dbl> & <dbl> & <dbl> & <chr> & <dbl> & <dbl> & <dbl> & <dbl> & <dbl> & <fct>\\\\\n",
       "\\hline\n",
       "\t 37 & services    & married & high.school         & no      & yes & no  & telephone & may & mon & ⋯ & 1 & 999 & 0 & nonexistent & 11 & 93994 & -364 & 4857 & 5191 & no\\\\\n",
       "\t 40 & admin.      & married & basic.6y            & no      & no  & no  & telephone & may & mon & ⋯ & 1 & 999 & 0 & nonexistent & 11 & 93994 & -364 & 4857 & 5191 & no\\\\\n",
       "\t 56 & services    & married & high.school         & no      & no  & yes & telephone & may & mon & ⋯ & 1 & 999 & 0 & nonexistent & 11 & 93994 & -364 & 4857 & 5191 & no\\\\\n",
       "\t 45 & services    & married & basic.9y            & unknown & no  & no  & telephone & may & mon & ⋯ & 1 & 999 & 0 & nonexistent & 11 & 93994 & -364 & 4857 & 5191 & no\\\\\n",
       "\t 59 & admin.      & married & professional.course & no      & no  & no  & telephone & may & mon & ⋯ & 1 & 999 & 0 & nonexistent & 11 & 93994 & -364 & 4857 & 5191 & no\\\\\n",
       "\t 41 & blue-collar & married & unknown             & unknown & no  & no  & telephone & may & mon & ⋯ & 1 & 999 & 0 & nonexistent & 11 & 93994 & -364 & 4857 & 5191 & no\\\\\n",
       "\\end{tabular}\n"
      ],
      "text/markdown": [
       "\n",
       "A tibble: 6 × 21\n",
       "\n",
       "| age &lt;dbl&gt; | job &lt;chr&gt; | marital &lt;chr&gt; | education &lt;chr&gt; | default &lt;chr&gt; | housing &lt;chr&gt; | loan &lt;chr&gt; | contact &lt;chr&gt; | month &lt;chr&gt; | day_of_week &lt;chr&gt; | ⋯ ⋯ | campaign &lt;dbl&gt; | pdays &lt;dbl&gt; | previous &lt;dbl&gt; | poutcome &lt;chr&gt; | emp.var.rate &lt;dbl&gt; | cons.price.idx &lt;dbl&gt; | cons.conf.idx &lt;dbl&gt; | euribor3m &lt;dbl&gt; | nr.employed &lt;dbl&gt; | y &lt;fct&gt; |\n",
       "|---|---|---|---|---|---|---|---|---|---|---|---|---|---|---|---|---|---|---|---|---|\n",
       "| 37 | services    | married | high.school         | no      | yes | no  | telephone | may | mon | ⋯ | 1 | 999 | 0 | nonexistent | 11 | 93994 | -364 | 4857 | 5191 | no |\n",
       "| 40 | admin.      | married | basic.6y            | no      | no  | no  | telephone | may | mon | ⋯ | 1 | 999 | 0 | nonexistent | 11 | 93994 | -364 | 4857 | 5191 | no |\n",
       "| 56 | services    | married | high.school         | no      | no  | yes | telephone | may | mon | ⋯ | 1 | 999 | 0 | nonexistent | 11 | 93994 | -364 | 4857 | 5191 | no |\n",
       "| 45 | services    | married | basic.9y            | unknown | no  | no  | telephone | may | mon | ⋯ | 1 | 999 | 0 | nonexistent | 11 | 93994 | -364 | 4857 | 5191 | no |\n",
       "| 59 | admin.      | married | professional.course | no      | no  | no  | telephone | may | mon | ⋯ | 1 | 999 | 0 | nonexistent | 11 | 93994 | -364 | 4857 | 5191 | no |\n",
       "| 41 | blue-collar | married | unknown             | unknown | no  | no  | telephone | may | mon | ⋯ | 1 | 999 | 0 | nonexistent | 11 | 93994 | -364 | 4857 | 5191 | no |\n",
       "\n"
      ],
      "text/plain": [
       "  age job         marital education           default housing loan contact  \n",
       "1 37  services    married high.school         no      yes     no   telephone\n",
       "2 40  admin.      married basic.6y            no      no      no   telephone\n",
       "3 56  services    married high.school         no      no      yes  telephone\n",
       "4 45  services    married basic.9y            unknown no      no   telephone\n",
       "5 59  admin.      married professional.course no      no      no   telephone\n",
       "6 41  blue-collar married unknown             unknown no      no   telephone\n",
       "  month day_of_week ⋯ campaign pdays previous poutcome    emp.var.rate\n",
       "1 may   mon         ⋯ 1        999   0        nonexistent 11          \n",
       "2 may   mon         ⋯ 1        999   0        nonexistent 11          \n",
       "3 may   mon         ⋯ 1        999   0        nonexistent 11          \n",
       "4 may   mon         ⋯ 1        999   0        nonexistent 11          \n",
       "5 may   mon         ⋯ 1        999   0        nonexistent 11          \n",
       "6 may   mon         ⋯ 1        999   0        nonexistent 11          \n",
       "  cons.price.idx cons.conf.idx euribor3m nr.employed y \n",
       "1 93994          -364          4857      5191        no\n",
       "2 93994          -364          4857      5191        no\n",
       "3 93994          -364          4857      5191        no\n",
       "4 93994          -364          4857      5191        no\n",
       "5 93994          -364          4857      5191        no\n",
       "6 93994          -364          4857      5191        no"
      ]
     },
     "metadata": {},
     "output_type": "display_data"
    }
   ],
   "source": [
    "head(train)"
   ]
  },
  {
   "cell_type": "markdown",
   "metadata": {},
   "source": [
    "</br>"
   ]
  },
  {
   "cell_type": "code",
   "execution_count": null,
   "metadata": {},
   "outputs": [],
   "source": []
  },
  {
   "cell_type": "markdown",
   "metadata": {},
   "source": [
    "</br>"
   ]
  },
  {
   "cell_type": "code",
   "execution_count": 72,
   "metadata": {},
   "outputs": [
    {
     "name": "stderr",
     "output_type": "stream",
     "text": [
      "`summarise()` ungrouping output (override with `.groups` argument)\n",
      "\n",
      "`summarise()` ungrouping output (override with `.groups` argument)\n",
      "\n"
     ]
    },
    {
     "data": {
      "text/html": [
       "<table>\n",
       "<caption>A tibble: 2 × 2</caption>\n",
       "<thead>\n",
       "\t<tr><th scope=col>y</th><th scope=col>event_rate_train</th></tr>\n",
       "\t<tr><th scope=col>&lt;fct&gt;</th><th scope=col>&lt;dbl&gt;</th></tr>\n",
       "</thead>\n",
       "<tbody>\n",
       "\t<tr><td>no </td><td>0.8873474</td></tr>\n",
       "\t<tr><td>yes</td><td>0.1126526</td></tr>\n",
       "</tbody>\n",
       "</table>\n"
      ],
      "text/latex": [
       "A tibble: 2 × 2\n",
       "\\begin{tabular}{ll}\n",
       " y & event\\_rate\\_train\\\\\n",
       " <fct> & <dbl>\\\\\n",
       "\\hline\n",
       "\t no  & 0.8873474\\\\\n",
       "\t yes & 0.1126526\\\\\n",
       "\\end{tabular}\n"
      ],
      "text/markdown": [
       "\n",
       "A tibble: 2 × 2\n",
       "\n",
       "| y &lt;fct&gt; | event_rate_train &lt;dbl&gt; |\n",
       "|---|---|\n",
       "| no  | 0.8873474 |\n",
       "| yes | 0.1126526 |\n",
       "\n"
      ],
      "text/plain": [
       "  y   event_rate_train\n",
       "1 no  0.8873474       \n",
       "2 yes 0.1126526       "
      ]
     },
     "metadata": {},
     "output_type": "display_data"
    },
    {
     "data": {
      "text/html": [
       "<table>\n",
       "<caption>A tibble: 1 × 7</caption>\n",
       "<thead>\n",
       "\t<tr><th scope=col>age</th><th scope=col>campaign</th><th scope=col>pdays</th><th scope=col>emp.var.rate</th><th scope=col>cons.price.idx</th><th scope=col>euribor3m</th><th scope=col>nr.employed</th></tr>\n",
       "\t<tr><th scope=col>&lt;dbl&gt;</th><th scope=col>&lt;dbl&gt;</th><th scope=col>&lt;dbl&gt;</th><th scope=col>&lt;dbl&gt;</th><th scope=col>&lt;dbl&gt;</th><th scope=col>&lt;dbl&gt;</th><th scope=col>&lt;dbl&gt;</th></tr>\n",
       "</thead>\n",
       "<tbody>\n",
       "\t<tr><td>39.99691</td><td>2.574362</td><td>962.8028</td><td>0.8986543</td><td>85619.01</td><td>3285.563</td><td>5191</td></tr>\n",
       "</tbody>\n",
       "</table>\n"
      ],
      "text/latex": [
       "A tibble: 1 × 7\n",
       "\\begin{tabular}{lllllll}\n",
       " age & campaign & pdays & emp.var.rate & cons.price.idx & euribor3m & nr.employed\\\\\n",
       " <dbl> & <dbl> & <dbl> & <dbl> & <dbl> & <dbl> & <dbl>\\\\\n",
       "\\hline\n",
       "\t 39.99691 & 2.574362 & 962.8028 & 0.8986543 & 85619.01 & 3285.563 & 5191\\\\\n",
       "\\end{tabular}\n"
      ],
      "text/markdown": [
       "\n",
       "A tibble: 1 × 7\n",
       "\n",
       "| age &lt;dbl&gt; | campaign &lt;dbl&gt; | pdays &lt;dbl&gt; | emp.var.rate &lt;dbl&gt; | cons.price.idx &lt;dbl&gt; | euribor3m &lt;dbl&gt; | nr.employed &lt;dbl&gt; |\n",
       "|---|---|---|---|---|---|---|\n",
       "| 39.99691 | 2.574362 | 962.8028 | 0.8986543 | 85619.01 | 3285.563 | 5191 |\n",
       "\n"
      ],
      "text/plain": [
       "  age      campaign pdays    emp.var.rate cons.price.idx euribor3m nr.employed\n",
       "1 39.99691 2.574362 962.8028 0.8986543    85619.01       3285.563  5191       "
      ]
     },
     "metadata": {},
     "output_type": "display_data"
    }
   ],
   "source": [
    "# Ensuring that event rates are the same in both sets.\n",
    "event_rate_train <- train %>%\n",
    "                    group_by(y) %>%\n",
    "                    summarise(event_rate_train = (n()/nrow(train)))\n",
    "\n",
    "event_rate_valid <- valid %>%\n",
    "                    group_by(y) %>%\n",
    "                    summarise(event_rate_valid = (n()/nrow(valid)))\n",
    "\n",
    "event_rate_train\n",
    "\n",
    "#Means of predictors in train\n",
    "means_train <- train %>%\n",
    "               select(age, campaign, pdays, emp.var.rate, cons.price.idx, euribor3m, nr.employed) %>%\n",
    "               map_df(mean, na.rm = TRUE)\n",
    "\n",
    "means_train"
   ]
  },
  {
   "cell_type": "code",
   "execution_count": 1,
   "metadata": {},
   "outputs": [
    {
     "ename": "ERROR",
     "evalue": "Error in train %>% ggplot(aes(age, cons.price.idx, color = y)): could not find function \"%>%\"\n",
     "output_type": "error",
     "traceback": [
      "Error in train %>% ggplot(aes(age, cons.price.idx, color = y)): could not find function \"%>%\"\nTraceback:\n"
     ]
    }
   ],
   "source": [
    "# age, no. of campaigns, grouped by outcome\n",
    "options(repr.plot.width = 15, repr.plot.height = 7)\n",
    "plot1 <- train %>%\n",
    "         ggplot(aes(age, cons.price.idx, color = y)) +\n",
    "         geom_point() +\n",
    "         labs(x = \"Age\", y = \"No. of Contacts performed\", colour = \"Subscribed to a term deposit?\") +\n",
    "         theme(text = element_text(size = 18))\n",
    "\n",
    "plot1"
   ]
  },
  {
   "cell_type": "markdown",
   "metadata": {},
   "source": [
    "Preliminary Observations from plot 1: \n",
    "- Repeatedly calling a single client over 10 times did not not infact result in success. \n",
    "- Most individuals who subscribed to a term deposit (succesful event), did so within receiving less than 10 marketing calls."
   ]
  },
  {
   "cell_type": "code",
   "execution_count": 167,
   "metadata": {},
   "outputs": [
    {
     "name": "stderr",
     "output_type": "stream",
     "text": [
      "`summarise()` regrouping output by 'month' (override with `.groups` argument)\n",
      "\n"
     ]
    },
    {
     "data": {
      "image/png": "[encoded data removed]",
      "text/plain": [
       "plot without title"
      ]
     },
     "metadata": {
      "image/png": {
       "height": 300,
       "width": 900
      }
     },
     "output_type": "display_data"
    }
   ],
   "source": [
    "# Compare months, day of week.\n",
    "options(repr.plot.height = 5)\n",
    "\n",
    "plot_month <- train %>%\n",
    "         group_by(month, y) %>%\n",
    "         summarise(n = n()) %>%\n",
    "         ggplot(aes(reorder(month, -n), n,  fill = y)) +\n",
    "         geom_bar(stat = \"identity\", position = \"fill\") +\n",
    "         labs(x = \"Month\", y = \"Proportion of Yes vs No\", fill = \"Client subscribed to term deposit?\",\n",
    "             subtitle = \"*Converting implies the call recipient subscribed to a term deposit\") +\n",
    "         ggtitle(\"Which months were relatively successful at converting* first-time call recipients?\")\n",
    "\n",
    "plot_month\n",
    "\n",
    "         "
   ]
  },
  {
   "cell_type": "code",
   "execution_count": null,
   "metadata": {},
   "outputs": [],
   "source": []
  }
 ],
 "metadata": {
  "kernelspec": {
   "display_name": "R",
   "language": "R",
   "name": "ir"
  },
  "language_info": {
   "codemirror_mode": "r",
   "file_extension": ".r",
   "mimetype": "text/x-r-source",
   "name": "R",
   "pygments_lexer": "r",
   "version": "4.0.0"
  }
 },
 "nbformat": 4,
 "nbformat_minor": 4
}
